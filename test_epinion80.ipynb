{
 "cells": [
  {
   "cell_type": "code",
   "execution_count": 1,
   "metadata": {},
   "outputs": [],
   "source": [
    "from utility.cross_validation import split_5_folds\n",
    "# from configx.configx_epinion_80 import ConfigX as EP80\n",
    "from configx.configx_epinion_80 import ConfigX as ConfigXep80\n",
    "from model.social_reg import mainSocialReg"
   ]
  },
  {
   "cell_type": "code",
   "execution_count": 2,
   "metadata": {},
   "outputs": [],
   "source": [
    "configxEP80 = ConfigXep80()"
   ]
  },
  {
   "cell_type": "code",
   "execution_count": 3,
   "metadata": {},
   "outputs": [],
   "source": [
    "split_5_folds(configxEP80)"
   ]
  },
  {
   "cell_type": "code",
   "execution_count": 4,
   "metadata": {},
   "outputs": [
    {
     "name": "stdout",
     "output_type": "stream",
     "text": [
      "data/cv/epinion_80/\n"
     ]
    }
   ],
   "source": [
    "print(configxEP80.rating_cv_path)"
   ]
  },
  {
   "cell_type": "code",
   "execution_count": 5,
   "metadata": {},
   "outputs": [
    {
     "name": "stdout",
     "output_type": "stream",
     "text": [
      "{\n",
      "    'dataset_name': 'ep',\n",
      "    'k_fold_num': 5,\n",
      "    'rating_path': 'data/epinion/ratings_data.txt',\n",
      "    'rating_cv_path': 'data/cv/epinion_80/',\n",
      "    'trust_path': 'data/epinion/trust_data.txt',\n",
      "    'sep': ' ',\n",
      "    'random_state': 0,\n",
      "    'size': 0.8,\n",
      "    'min_val': 1,\n",
      "    'max_val': 5,\n",
      "    'coldUserRating': 5,\n",
      "    'factor': 10,\n",
      "    'threshold': 0.0001,\n",
      "    'lr': 0.01,\n",
      "    'maxIter': 100,\n",
      "    'lambdaP': 0.001,\n",
      "    'lambdaQ': 0.001,\n",
      "    'gamma': 0,\n",
      "    'isEarlyStopping': False,\n",
      "    'result_path': '../results/epinion_80',\n",
      "    'model_path': 'model/',\n",
      "    'result_log_path': 'log/'\n",
      "}\n",
      "the 0th cross validation training\n",
      "constructing user-user similarity matrix...\n",
      "<class 'model.social_reg.SocialReg'> iteration 1: loss = 181243.0529, delta_loss = -181243.05293 learning_Rate = 0.01000 rmse=1.84184 mae=1.57871\n",
      "<class 'model.social_reg.SocialReg'> iteration 2: loss = 132843.0898, delta_loss = 48399.96313 learning_Rate = 0.01000 rmse=1.65362 mae=1.37775\n",
      "<class 'model.social_reg.SocialReg'> iteration 3: loss = 111076.7974, delta_loss = 21766.29238 learning_Rate = 0.01000 rmse=1.54412 mae=1.25483\n"
     ]
    },
    {
     "ename": "KeyboardInterrupt",
     "evalue": "",
     "output_type": "error",
     "traceback": [
      "\u001b[1;31m---------------------------------------------------------------------------\u001b[0m",
      "\u001b[1;31mKeyboardInterrupt\u001b[0m                         Traceback (most recent call last)",
      "\u001b[1;32m~\\AppData\\Local\\Temp\\ipykernel_48624\\3598042469.py\u001b[0m in \u001b[0;36m<module>\u001b[1;34m\u001b[0m\n\u001b[1;32m----> 1\u001b[1;33m \u001b[0mmainSocialReg\u001b[0m\u001b[1;33m(\u001b[0m\u001b[0mconfigxEP80\u001b[0m\u001b[1;33m)\u001b[0m\u001b[1;33m\u001b[0m\u001b[1;33m\u001b[0m\u001b[0m\n\u001b[0m",
      "\u001b[1;32mc:\\Users\\cleme\\Documents\\Fac\\Master\\Semestre 9\\Graph\\MiniProjet\\mini-projet_graph_ALLET_BESSET\\model\\social_reg.py\u001b[0m in \u001b[0;36mmainSocialReg\u001b[1;34m(config)\u001b[0m\n\u001b[0;32m    104\u001b[0m     \u001b[1;32mfor\u001b[0m \u001b[0mi\u001b[0m \u001b[1;32min\u001b[0m \u001b[0mrange\u001b[0m\u001b[1;33m(\u001b[0m\u001b[0mtcsr\u001b[0m\u001b[1;33m.\u001b[0m\u001b[0mconfig\u001b[0m\u001b[1;33m.\u001b[0m\u001b[0mk_fold_num\u001b[0m\u001b[1;33m)\u001b[0m\u001b[1;33m:\u001b[0m\u001b[1;33m\u001b[0m\u001b[1;33m\u001b[0m\u001b[0m\n\u001b[0;32m    105\u001b[0m         \u001b[0mprint\u001b[0m\u001b[1;33m(\u001b[0m\u001b[1;34m'the %dth cross validation training'\u001b[0m \u001b[1;33m%\u001b[0m \u001b[0mi\u001b[0m\u001b[1;33m)\u001b[0m\u001b[1;33m\u001b[0m\u001b[1;33m\u001b[0m\u001b[0m\n\u001b[1;32m--> 106\u001b[1;33m         \u001b[0mtcsr\u001b[0m\u001b[1;33m.\u001b[0m\u001b[0mtrain_model\u001b[0m\u001b[1;33m(\u001b[0m\u001b[0mi\u001b[0m\u001b[1;33m)\u001b[0m\u001b[1;33m\u001b[0m\u001b[1;33m\u001b[0m\u001b[0m\n\u001b[0m\u001b[0;32m    107\u001b[0m         \u001b[0mrmse\u001b[0m\u001b[1;33m,\u001b[0m \u001b[0mmae\u001b[0m \u001b[1;33m=\u001b[0m \u001b[0mtcsr\u001b[0m\u001b[1;33m.\u001b[0m\u001b[0mpredict_model\u001b[0m\u001b[1;33m(\u001b[0m\u001b[1;33m)\u001b[0m\u001b[1;33m\u001b[0m\u001b[1;33m\u001b[0m\u001b[0m\n\u001b[0;32m    108\u001b[0m         \u001b[0mrmses\u001b[0m\u001b[1;33m.\u001b[0m\u001b[0mappend\u001b[0m\u001b[1;33m(\u001b[0m\u001b[0mrmse\u001b[0m\u001b[1;33m)\u001b[0m\u001b[1;33m\u001b[0m\u001b[1;33m\u001b[0m\u001b[0m\n",
      "\u001b[1;32mc:\\Users\\cleme\\Documents\\Fac\\Master\\Semestre 9\\Graph\\MiniProjet\\mini-projet_graph_ALLET_BESSET\\model\\social_reg.py\u001b[0m in \u001b[0;36mtrain_model\u001b[1;34m(self, k)\u001b[0m\n\u001b[0;32m     67\u001b[0m                         \u001b[0muf\u001b[0m \u001b[1;33m=\u001b[0m \u001b[0mself\u001b[0m\u001b[1;33m.\u001b[0m\u001b[0mP\u001b[0m\u001b[1;33m[\u001b[0m\u001b[0mself\u001b[0m\u001b[1;33m.\u001b[0m\u001b[0mrg\u001b[0m\u001b[1;33m.\u001b[0m\u001b[0muser\u001b[0m\u001b[1;33m[\u001b[0m\u001b[0mfollowee\u001b[0m\u001b[1;33m]\u001b[0m\u001b[1;33m]\u001b[0m\u001b[1;33m\u001b[0m\u001b[1;33m\u001b[0m\u001b[0m\n\u001b[0;32m     68\u001b[0m                         \u001b[0msocial_term_p\u001b[0m \u001b[1;33m+=\u001b[0m \u001b[0ms\u001b[0m \u001b[1;33m*\u001b[0m \u001b[1;33m(\u001b[0m\u001b[0mp\u001b[0m \u001b[1;33m-\u001b[0m \u001b[0muf\u001b[0m\u001b[1;33m)\u001b[0m\u001b[1;33m\u001b[0m\u001b[1;33m\u001b[0m\u001b[0m\n\u001b[1;32m---> 69\u001b[1;33m                         \u001b[0msocial_term_loss\u001b[0m \u001b[1;33m+=\u001b[0m \u001b[0ms\u001b[0m \u001b[1;33m*\u001b[0m \u001b[1;33m(\u001b[0m\u001b[1;33m(\u001b[0m\u001b[0mp\u001b[0m \u001b[1;33m-\u001b[0m \u001b[0muf\u001b[0m\u001b[1;33m)\u001b[0m\u001b[1;33m.\u001b[0m\u001b[0mdot\u001b[0m\u001b[1;33m(\u001b[0m\u001b[0mp\u001b[0m \u001b[1;33m-\u001b[0m \u001b[0muf\u001b[0m\u001b[1;33m)\u001b[0m\u001b[1;33m)\u001b[0m\u001b[1;33m\u001b[0m\u001b[1;33m\u001b[0m\u001b[0m\n\u001b[0m\u001b[0;32m     70\u001b[0m \u001b[1;33m\u001b[0m\u001b[0m\n\u001b[0;32m     71\u001b[0m                 \u001b[0msocial_term_m\u001b[0m \u001b[1;33m=\u001b[0m \u001b[0mnp\u001b[0m\u001b[1;33m.\u001b[0m\u001b[0mzeros\u001b[0m\u001b[1;33m(\u001b[0m\u001b[1;33m(\u001b[0m\u001b[0mself\u001b[0m\u001b[1;33m.\u001b[0m\u001b[0mconfig\u001b[0m\u001b[1;33m.\u001b[0m\u001b[0mfactor\u001b[0m\u001b[1;33m)\u001b[0m\u001b[1;33m)\u001b[0m\u001b[1;33m\u001b[0m\u001b[1;33m\u001b[0m\u001b[0m\n",
      "\u001b[1;31mKeyboardInterrupt\u001b[0m: "
     ]
    }
   ],
   "source": [
    "mainSocialReg(configxEP80)"
   ]
  },
  {
   "cell_type": "code",
   "execution_count": null,
   "metadata": {},
   "outputs": [],
   "source": []
  },
  {
   "cell_type": "code",
   "execution_count": null,
   "metadata": {},
   "outputs": [],
   "source": []
  }
 ],
 "metadata": {
  "kernelspec": {
   "display_name": "base",
   "language": "python",
   "name": "python3"
  },
  "language_info": {
   "codemirror_mode": {
    "name": "ipython",
    "version": 3
   },
   "file_extension": ".py",
   "mimetype": "text/x-python",
   "name": "python",
   "nbconvert_exporter": "python",
   "pygments_lexer": "ipython3",
   "version": "3.9.13"
  },
  "orig_nbformat": 4,
  "vscode": {
   "interpreter": {
    "hash": "7aa9664549af0dc77d4ddcb12a5c1f8e5a941fbf799eb3e4eff06ef45fdce330"
   }
  }
 },
 "nbformat": 4,
 "nbformat_minor": 2
}
