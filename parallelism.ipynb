{
 "cells": [
  {
   "cell_type": "code",
   "execution_count": 7,
   "id": "2dc619ca",
   "metadata": {},
   "outputs": [],
   "source": [
    "from utility.cross_validation import split_5_folds\n",
    "from configx.configx_epinion_80 import ConfigX as Ep80\n",
    "from parallel import para\n",
    "import sys"
   ]
  },
  {
   "cell_type": "code",
   "execution_count": null,
   "id": "af0af897",
   "metadata": {},
   "outputs": [
    {
     "name": "stdout",
     "output_type": "stream",
     "text": [
      "ep -fold0 data generated finished!\n",
      "ep -fold1 data generated finished!\n",
      "ep -fold2 data generated finished!\n",
      "ep -fold3 data generated finished!\n",
      "ep -fold4 data generated finished!\n",
      "ep -fold5 data generated finished!\n",
      "ep -fold6 data generated finished!\n",
      "ep -fold7 data generated finished!\n",
      "ep -fold8 data generated finished!\n",
      "ep -fold9 data generated finished!\n",
      "ep -fold10 data generated finished!\n",
      "ep -fold11 data generated finished!\n",
      "All Data Generated Done!\n"
     ]
    }
   ],
   "source": [
    "ep=Ep80()\n",
    "split_5_folds(ep)\n",
    "para(ep,True)"
   ]
  },
  {
   "cell_type": "code",
   "execution_count": null,
   "id": "d38a947c",
   "metadata": {},
   "outputs": [],
   "source": []
  },
  {
   "cell_type": "code",
   "execution_count": null,
   "id": "a3081720",
   "metadata": {
    "scrolled": true
   },
   "outputs": [],
   "source": []
  },
  {
   "cell_type": "code",
   "execution_count": null,
   "id": "231fcc20",
   "metadata": {},
   "outputs": [],
   "source": []
  }
 ],
 "metadata": {
  "kernelspec": {
   "display_name": "Python 3 (ipykernel)",
   "language": "python",
   "name": "python3"
  },
  "language_info": {
   "codemirror_mode": {
    "name": "ipython",
    "version": 3
   },
   "file_extension": ".py",
   "mimetype": "text/x-python",
   "name": "python",
   "nbconvert_exporter": "python",
   "pygments_lexer": "ipython3",
   "version": "3.9.13"
  }
 },
 "nbformat": 4,
 "nbformat_minor": 5
}
