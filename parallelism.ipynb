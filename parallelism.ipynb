{
 "cells": [
  {
   "cell_type": "code",
   "execution_count": 1,
   "id": "2dc619ca",
   "metadata": {},
   "outputs": [],
   "source": [
    "from utility.cross_validation import split_5_folds\n",
    "from configx.configx_delicious import ConfigX as deli\n",
    "from configx.configx_epinion_80 import ConfigX as ep80\n",
    "from parallel import para\n",
    "import sys"
   ]
  },
  {
   "cell_type": "code",
   "execution_count": null,
   "id": "af0af897",
   "metadata": {},
   "outputs": [
    {
     "name": "stdout",
     "output_type": "stream",
     "text": [
      "ep -fold0 data generated finished!\n",
      "ep -fold1 data generated finished!\n",
      "ep -fold2 data generated finished!\n",
      "ep -fold3 data generated finished!\n",
      "ep -fold4 data generated finished!\n",
      "All Data Generated Done!\n",
      "début\n"
     ]
    }
   ],
   "source": [
    "ep=ep80()\n",
    "\n",
    "split_5_folds(ep)\n",
    "\n",
    "para(ep,True)\n",
    "\n",
    "\n",
    "\n"
   ]
  },
  {
   "cell_type": "code",
   "execution_count": null,
   "id": "57b9b417",
   "metadata": {},
   "outputs": [],
   "source": []
  }
 ],
 "metadata": {
  "kernelspec": {
   "display_name": "Python 3 (ipykernel)",
   "language": "python",
   "name": "python3"
  },
  "language_info": {
   "codemirror_mode": {
    "name": "ipython",
    "version": 3
   },
   "file_extension": ".py",
   "mimetype": "text/x-python",
   "name": "python",
   "nbconvert_exporter": "python",
   "pygments_lexer": "ipython3",
   "version": "3.9.13"
  },
  "vscode": {
   "interpreter": {
    "hash": "03120f9d26cdbd64e78d70cf85896cfac1f139c75de9cb66e280e3122daaa113"
   }
  }
 },
 "nbformat": 4,
 "nbformat_minor": 5
}
