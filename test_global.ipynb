{
 "cells": [
  {
   "cell_type": "code",
   "execution_count": 1,
   "metadata": {},
   "outputs": [
    {
     "name": "stdout",
     "output_type": "stream",
     "text": [
      "ft -fold0 data generated finished!\n",
      "ft -fold1 data generated finished!\n",
      "ft -fold2 data generated finished!\n",
      "ft -fold3 data generated finished!\n",
      "ft -fold4 data generated finished!\n",
      "All Data Generated Done!\n"
     ]
    }
   ],
   "source": [
    "from utility.cross_validation import split_5_folds\n",
    "from configx.configx import ConfigX\n",
    "\n",
    "configx = ConfigX()\n",
    "configx.k_fold_num = 5 \n",
    "configx.rating_path = \"data/ft_ratings.txt\"\n",
    "configx.rating_cv_path = \"data/cv/\"\n",
    "configx.trust_path = \"data/fr_trust.txt\"\n",
    "\n",
    "    \n",
    "split_5_folds(configx)"
   ]
  },
  {
   "cell_type": "code",
   "execution_count": 2,
   "metadata": {},
   "outputs": [],
   "source": [
    "from model.social_reg import mainSocialReg"
   ]
  },
  {
   "cell_type": "code",
   "execution_count": 3,
   "metadata": {},
   "outputs": [
    {
     "name": "stdout",
     "output_type": "stream",
     "text": [
      "{\n",
      "    'dataset_name': 'ft',\n",
      "    'k_fold_num': 5,\n",
      "    'rating_path': 'data/ft_ratings.txt',\n",
      "    'rating_cv_path': '../data/cv/',\n",
      "    'trust_path': 'data/ft_trust.txt',\n",
      "    'sep': ' ',\n",
      "    'random_state': 0,\n",
      "    'size': 0.8,\n",
      "    'min_val': 0.5,\n",
      "    'max_val': 4.0,\n",
      "    'coldUserRating': 5,\n",
      "    'factor': 10,\n",
      "    'threshold': 0.0001,\n",
      "    'lr': 0.01,\n",
      "    'maxIter': 100,\n",
      "    'lambdaP': 0.001,\n",
      "    'lambdaQ': 0.001,\n",
      "    'gamma': 0,\n",
      "    'isEarlyStopping': False,\n",
      "    'result_path': '../results/',\n",
      "    'model_path': 'model/',\n",
      "    'result_log_path': 'log/'\n",
      "}\n",
      "the 0th cross validation training\n",
      "the format of ratings data is wrong!\n"
     ]
    },
    {
     "ename": "SystemExit",
     "evalue": "",
     "output_type": "error",
     "traceback": [
      "An exception has occurred, use %tb to see the full traceback.\n",
      "\u001b[1;31mSystemExit\u001b[0m\n"
     ]
    },
    {
     "name": "stderr",
     "output_type": "stream",
     "text": [
      "c:\\Users\\cleme\\anaconda3\\lib\\site-packages\\IPython\\core\\interactiveshell.py:3465: UserWarning: To exit: use 'exit', 'quit', or Ctrl-D.\n",
      "  warn(\"To exit: use 'exit', 'quit', or Ctrl-D.\", stacklevel=1)\n"
     ]
    }
   ],
   "source": [
    "mainSocialReg(configx)"
   ]
  },
  {
   "cell_type": "code",
   "execution_count": 15,
   "metadata": {},
   "outputs": [
    {
     "name": "stdout",
     "output_type": "stream",
     "text": [
      "[(25, 30), (49, 50), (35, 35), (28, 28)]\n"
     ]
    }
   ],
   "source": [
    "import numpy as np\n",
    "top_k=[(25,30),(49,50)]\n",
    "top_k2=[(35,35),(28,28)]\n",
    "top=top_k+top_k2\n",
    "print(top)"
   ]
  },
  {
   "cell_type": "code",
   "execution_count": null,
   "metadata": {},
   "outputs": [],
   "source": []
  }
 ],
 "metadata": {
  "kernelspec": {
   "display_name": "Python 3",
   "language": "python",
   "name": "python3"
  },
  "language_info": {
   "codemirror_mode": {
    "name": "ipython",
    "version": 3
   },
   "file_extension": ".py",
   "mimetype": "text/x-python",
   "name": "python",
   "nbconvert_exporter": "python",
   "pygments_lexer": "ipython3",
   "version": "3.9.13 (tags/v3.9.13:6de2ca5, May 17 2022, 16:36:42) [MSC v.1929 64 bit (AMD64)]"
  },
  "vscode": {
   "interpreter": {
    "hash": "03120f9d26cdbd64e78d70cf85896cfac1f139c75de9cb66e280e3122daaa113"
   }
  }
 },
 "nbformat": 4,
 "nbformat_minor": 2
}
