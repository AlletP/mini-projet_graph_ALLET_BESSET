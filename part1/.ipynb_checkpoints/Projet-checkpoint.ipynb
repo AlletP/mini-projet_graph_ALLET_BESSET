{
 "cells": [
  {
   "cell_type": "code",
   "execution_count": 1,
   "metadata": {
    "id": "jeNyJKoEZfKc"
   },
   "outputs": [],
   "source": [
    "import networkx as nx\n",
    "from networkx.algorithms import community\n",
    "import pandas as pd\n",
    "import seaborn as sns\n",
    "from scipy import stats\n",
    "import matplotlib.pyplot as plt\n",
    "import numpy as np"
   ]
  },
  {
   "cell_type": "code",
   "execution_count": 2,
   "metadata": {
    "id": "qJtbF-KVpAYD"
   },
   "outputs": [],
   "source": [
    "pathEpinionT = \"./trust_data.txt\"\n",
    "pathEpinionR = \"./ratings_data.txt\"\n",
    "pathDelicious = \"./user_contacts.dat\""
   ]
  },
  {
   "cell_type": "code",
   "execution_count": 34,
   "metadata": {
    "id": "uF8M5UE8pSSj"
   },
   "outputs": [],
   "source": [
    "epiT = nx.read_weighted_edgelist(pathEpinionT)\n",
    "epiR = nx.read_weighted_edgelist(pathEpinionR)\n",
    "df = pd.read_csv(pathDelicious, sep=\"\\s+\", skiprows=1,  usecols=[0,1],names=['id_u','id_c'])\n",
    "deli = nx.from_pandas_edgelist(df,source='id_u',target='id_c')"
   ]
  },
  {
   "cell_type": "code",
   "execution_count": 39,
   "metadata": {
    "id": "uLA4sJ7Qqo2H"
   },
   "outputs": [],
   "source": [
    "def desc_graph(g):\n",
    "    nb_node = len(g.nodes)\n",
    "    nb_edges = len(g.edges)\n",
    "    density = nx.density(g)\n",
    "    print(density)\n",
    "    degree_sequence = sorted((d for n, d in g.degree()), reverse=True)\n",
    "    dmax = max(degree_sequence)\n",
    "    nb_max = degree_sequence.count(max(degree_sequence,key=degree_sequence.count))\n",
    "    \n",
    "    mu = 0.6\n",
    "    mean, var, skew, kurt = poisson.stats(mu, moments='mvsk')\n",
    "    x = np.arange(poisson.ppf(0.01, mu),poisson.ppf(0.99, mu))\n",
    "\n",
    "    fig = plt.figure(figsize=(8, 8))\n",
    "    ax0=fig.add_subplot()\n",
    "    ax0.bar(*np.unique(degree_sequence, return_counts=True))\n",
    "    ax0.set_title(\"Degree histogram\")\n",
    "    ax0.set_xlabel(\"Degree\")\n",
    "    ax0.set_xlim([0,dmax])\n",
    "    ax0.set_ylabel(\"# of Nodes\")\n",
    "    ax0.set_ylim([0,nb_max])\n",
    "    \n",
    "    ax1=fig.add_subplot()\n",
    "    ax1.plot(x, poisson.pmf(x, mu), 'bo', ms=8, label='poisson pmf')\n",
    "    ax1.vlines(x, 0, poisson.pmf(x, mu), colors='b', lw=5, alpha=0.5)\n",
    "    fig.tight_layout()\n",
    "    "
   ]
  },
  {
   "cell_type": "code",
   "execution_count": 43,
   "metadata": {
    "colab": {
     "base_uri": "https://localhost:8080/",
     "height": 169
    },
    "id": "lcq7x_W02Hz3",
    "outputId": "c734cb6f-6806-483e-f1f3-34aafdb9c6c0"
   },
   "outputs": [
    {
     "name": "stdout",
     "output_type": "stream",
     "text": [
      "0.0044281892611788085\n"
     ]
    },
    {
     "data": {
      "image/png": "[encoded data removed]",
      "text/plain": [
       "<Figure size 576x576 with 1 Axes>"
      ]
     },
     "metadata": {
      "needs_background": "light"
     },
     "output_type": "display_data"
    }
   ],
   "source": [
    "desc_graph(deli)"
   ]
  },
  {
   "cell_type": "markdown",
   "metadata": {
    "id": "DTN9hj6Zu3hC"
   },
   "source": []
  }
 ],
 "metadata": {
  "colab": {
   "provenance": []
  },
  "kernelspec": {
   "display_name": "Python 3 (ipykernel)",
   "language": "python",
   "name": "python3"
  },
  "language_info": {
   "codemirror_mode": {
    "name": "ipython",
    "version": 3
   },
   "file_extension": ".py",
   "mimetype": "text/x-python",
   "name": "python",
   "nbconvert_exporter": "python",
   "pygments_lexer": "ipython3",
   "version": "3.9.13"
  }
 },
 "nbformat": 4,
 "nbformat_minor": 1
}
